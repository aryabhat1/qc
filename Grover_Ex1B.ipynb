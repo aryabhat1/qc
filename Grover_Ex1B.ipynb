{
  "nbformat": 4,
  "nbformat_minor": 0,
  "metadata": {
    "colab": {
      "name": "Grover-Ex1B.ipynb",
      "provenance": [],
      "authorship_tag": "ABX9TyM+akSKVnB24yY/iPLmowvD",
      "include_colab_link": true
    },
    "kernelspec": {
      "name": "python3",
      "display_name": "Python 3"
    }
  },
  "cells": [
    {
      "cell_type": "markdown",
      "metadata": {
        "id": "view-in-github",
        "colab_type": "text"
      },
      "source": [
        "<a href=\"https://colab.research.google.com/github/aryabhat1/qc/blob/master/Grover_Ex1B.ipynb\" target=\"_parent\"><img src=\"https://colab.research.google.com/assets/colab-badge.svg\" alt=\"Open In Colab\"/></a>"
      ]
    },
    {
      "cell_type": "code",
      "metadata": {
        "colab": {
          "base_uri": "https://localhost:8080/"
        },
        "id": "rS_RJ5d2GcG8",
        "outputId": "beec8e21-4c16-4070-e440-b6ed76acdc5e"
      },
      "source": [
        "!pip install pylatexenc"
      ],
      "execution_count": 1,
      "outputs": [
        {
          "output_type": "stream",
          "text": [
            "Requirement already satisfied: pylatexenc in /usr/local/lib/python3.6/dist-packages (2.8)\n"
          ],
          "name": "stdout"
        }
      ]
    },
    {
      "cell_type": "code",
      "metadata": {
        "id": "qDURZKmFGoX9"
      },
      "source": [
        "# !pip install qiskit"
      ],
      "execution_count": 2,
      "outputs": []
    },
    {
      "cell_type": "code",
      "metadata": {
        "id": "m97rjhFTGvIu"
      },
      "source": [
        "# Initialization\n",
        "import matplotlib.pyplot as plt\n",
        "%matplotlib inline\n",
        "import numpy as np\n",
        "\n",
        "# Importing Qiskit\n",
        "from qiskit import IBMQ, BasicAer\n",
        "from qiskit.providers.ibmq import least_busy\n",
        "from qiskit import QuantumCircuit, ClassicalRegister, QuantumRegister, execute\n",
        "\n",
        "# Import basic plot tools\n",
        "from qiskit.tools.visualization import plot_histogram"
      ],
      "execution_count": 3,
      "outputs": []
    },
    {
      "cell_type": "code",
      "metadata": {
        "colab": {
          "base_uri": "https://localhost:8080/",
          "height": 185
        },
        "id": "Ih4CyojAHihJ",
        "outputId": "227b4fd9-153b-468d-c42b-23f78c6ad2ec"
      },
      "source": [
        "def phase_oracle(circuit, register,oracle_register):\n",
        "    circuit.h(oracle_register)\n",
        "    circuit.ccx(register[0], register[1],oracle_register)\n",
        "    circuit.h(oracle_register)\n",
        "    \n",
        "qr = QuantumRegister(3)\n",
        "oracleCircuit = QuantumCircuit(qr)\n",
        "oracleCircuit.x(qr[2])\n",
        "phase_oracle(oracleCircuit, qr,qr[2])\n",
        "%matplotlib inline\n",
        "oracleCircuit.draw(output=\"mpl\")"
      ],
      "execution_count": 4,
      "outputs": [
        {
          "output_type": "execute_result",
          "data": {
            "image/png": "[encoded data removed]",
            "text/plain": [
              "<Figure size 340.378x204.68 with 1 Axes>"
            ]
          },
          "metadata": {
            "tags": []
          },
          "execution_count": 4
        }
      ]
    },
    {
      "cell_type": "code",
      "metadata": {
        "id": "LfYppRLjHsdx"
      },
      "source": [
        "def inversion_about_average(circuit, register):\n",
        "    \"\"\"Apply inversion about the average step of Grover's algorithm.\"\"\"\n",
        "    circuit.h(register)\n",
        "    circuit.x(register)\n",
        "    circuit.h(register[1])\n",
        "    circuit.cx(register[0], register[1])\n",
        "    circuit.h(register[1])\n",
        "    circuit.x(register)\n",
        "    circuit.h(register)"
      ],
      "execution_count": 5,
      "outputs": []
    },
    {
      "cell_type": "code",
      "metadata": {
        "colab": {
          "base_uri": "https://localhost:8080/",
          "height": 185
        },
        "id": "Rd_L952eKbg3",
        "outputId": "2b6dda3b-3fb2-4743-b9a8-8ebedbb86f7d"
      },
      "source": [
        "qAverage = QuantumCircuit(qr)\n",
        "inversion_about_average(qAverage, qr[0:2])\n",
        "qAverage.draw(output='mpl')"
      ],
      "execution_count": 6,
      "outputs": [
        {
          "output_type": "execute_result",
          "data": {
            "image/png": "[encoded data removed]",
            "text/plain": [
              "<Figure size 520.978x204.68 with 1 Axes>"
            ]
          },
          "metadata": {
            "tags": []
          },
          "execution_count": 6
        }
      ]
    },
    {
      "cell_type": "code",
      "metadata": {
        "colab": {
          "base_uri": "https://localhost:8080/",
          "height": 231
        },
        "id": "7LmOU70ELRLf",
        "outputId": "b3ee644b-a662-4895-ae58-bf97d13dc42a"
      },
      "source": [
        "qr = QuantumRegister(3)\n",
        "cr = ClassicalRegister(3)\n",
        "\n",
        "groverCircuit = QuantumCircuit(qr,cr)\n",
        "groverCircuit.h(qr[0:2])\n",
        "groverCircuit.x(qr[2])\n",
        "\n",
        "phase_oracle(groverCircuit, qr,qr[2])\n",
        "inversion_about_average(groverCircuit, qr[0:2])\n",
        "\n",
        "groverCircuit.measure(qr,cr)\n",
        "groverCircuit.draw(output=\"mpl\")"
      ],
      "execution_count": 7,
      "outputs": [
        {
          "output_type": "execute_result",
          "data": {
            "image/png": "[encoded data removed]",
            "text/plain": [
              "<Figure size 822.123x264.88 with 1 Axes>"
            ]
          },
          "metadata": {
            "tags": []
          },
          "execution_count": 7
        }
      ]
    },
    {
      "cell_type": "code",
      "metadata": {
        "id": "nsiuyNFQLXQd"
      },
      "source": [
        "backend = BasicAer.get_backend('qasm_simulator')\n",
        "prob_of_ans = []\n",
        "\n",
        "for x in range(12):\n",
        "    database = QuantumRegister(4)\n",
        "    oracle = QuantumRegister(1)\n",
        "    auxiliary = QuantumRegister(2) \n",
        "    cr = ClassicalRegister(4)\n",
        "    qc = QuantumCircuit(database, oracle, auxiliary, cr)\n",
        "    qc.h(database[:])\n",
        "    qc.x(oracle[0])\n",
        "    qc.h(oracle[0])\n",
        "\n",
        "\n",
        "    for j in range(x):\n",
        "    # oracle_4q\n",
        "        # search 7: 0111 \n",
        "        qc.x(database[0])\n",
        "        qc.mct(database[:], oracle[0], auxiliary[:], mode='basic') \n",
        "        qc.x(database[0])\n",
        "\n",
        "    # diffusion_4q\n",
        "        qc.h(database[:])\n",
        "        qc.x(database[:])\n",
        "        qc.h(database[3])\n",
        "        qc.mct(database[0:3], database[3], auxiliary[:], mode='basic')\n",
        "        qc.h(database[3])\n",
        "        qc.x(database[:])\n",
        "        qc.h(database[:])\n",
        "\n",
        "\n",
        "    qc.h(oracle[0])\n",
        "    qc.x(oracle[0])\n",
        "    qc.measure(database,cr)\n",
        "    # Change the endian \n",
        "    qc = qc.reverse_bits() \n",
        "    \n",
        "    job = execute(qc, backend=backend, shots=1000, seed_simulator=12345, backend_options={\"fusion_enable\":True})\n",
        "    result = job.result()\n",
        "    count = result.get_counts()\n",
        "    answer = count['0111']\n",
        "    prob_of_ans.append(answer)"
      ],
      "execution_count": 8,
      "outputs": []
    },
    {
      "cell_type": "code",
      "metadata": {
        "colab": {
          "base_uri": "https://localhost:8080/",
          "height": 296
        },
        "id": "zR2AKvPSLkmv",
        "outputId": "868e479e-41b0-4dd4-b78b-bb340e6d71a5"
      },
      "source": [
        "import numpy as np\n",
        "import matplotlib.pyplot as plt\n",
        "iteration = [i for i in range(12)]\n",
        "correct = prob_of_ans\n",
        "plt.bar(iteration, correct)\n",
        "plt.xlabel('# of iteration')\n",
        "plt.ylabel('# of times the solution was obtained')"
      ],
      "execution_count": 9,
      "outputs": [
        {
          "output_type": "execute_result",
          "data": {
            "text/plain": [
              "Text(0, 0.5, '# of times the solution was obtained')"
            ]
          },
          "metadata": {
            "tags": []
          },
          "execution_count": 9
        },
        {
          "output_type": "display_data",
          "data": {
            "image/png": "[encoded data removed]",
            "text/plain": [
              "<Figure size 432x288 with 1 Axes>"
            ]
          },
          "metadata": {
            "tags": [],
            "needs_background": "light"
          }
        }
      ]
    },
    {
      "cell_type": "code",
      "metadata": {
        "id": "Nrdd4BEzLrqV"
      },
      "source": [
        ""
      ],
      "execution_count": null,
      "outputs": []
    }
  ]
}